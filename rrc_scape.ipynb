{
 "cells": [
  {
   "cell_type": "code",
   "execution_count": 2,
   "metadata": {},
   "outputs": [],
   "source": [
    "import pickle\n",
    "import requests\n",
    "from bs4 import BeautifulSoup\n",
    "from selenium import webdriver\n",
    "from selenium.webdriver.common.keys import Keys\n",
    "import time\n",
    "import contextlib\n",
    "from selenium.webdriver.support.ui import Select\n",
    "\n",
    "\n",
    "import chromedriver_binary"
   ]
  },
  {
   "cell_type": "code",
   "execution_count": 3,
   "metadata": {},
   "outputs": [],
   "source": [
    "with open('pickle/midland_apis.pickle', 'rb') as to_read: #run scrape_data to generate\n",
    "    midland_apis = pickle.load(to_read)"
   ]
  },
  {
   "cell_type": "code",
   "execution_count": 4,
   "metadata": {},
   "outputs": [
    {
     "data": {
      "text/plain": [
       "0    42329422450000\n",
       "1    42227347100000\n",
       "2    42227347130000\n",
       "3    42329415170000\n",
       "4    42317408540000\n",
       "Name: APINumber, dtype: int64"
      ]
     },
     "execution_count": 4,
     "metadata": {},
     "output_type": "execute_result"
    }
   ],
   "source": [
    "midland_apis.head()"
   ]
  },
  {
   "cell_type": "code",
   "execution_count": 5,
   "metadata": {},
   "outputs": [],
   "source": [
    "@contextlib.contextmanager\n",
    "def quitting(thing):\n",
    "    yield thing\n",
    "    #thing.close()\n",
    "    #thing.quit()"
   ]
  },
  {
   "cell_type": "code",
   "execution_count": 6,
   "metadata": {},
   "outputs": [],
   "source": [
    "def proration_query(api):\n",
    "    proration_url = 'http://webapps2.rrc.texas.gov/EWA/oilProQueryAction.do'\n",
    "    api_dict = {'api' : api}\n",
    "    api = str(api)\n",
    "    api_mid = str(api)[2:5]\n",
    "    api_last = str(api)[5:10]\n",
    "    \n",
    "    with quitting(webdriver.Chrome()) as driver:\n",
    "        driver.get(proration_url)\n",
    "        api_box1 = driver.find_element_by_name(\"searchArgs.apiPrefixArg\")\n",
    "        api_box1.send_keys(api_mid)\n",
    "        api_box2 = driver.find_element_by_name(\"searchArgs.apiSuffixArg\")\n",
    "        api_box2.send_keys(api_last)\n",
    "        pro_search = driver.find_element_by_xpath(\"/html/body/table[2]/tbody/tr/td/form/table/tbody/tr[2]/td/table/tbody/tr[3]/td/input[1]\")\n",
    "        pro_search.click()\n",
    "        status = driver.find_element_by_xpath(\"/html/body/table[2]/tbody/tr/td/form/table/tbody/tr[2]/td/table/tbody/tr[2]/td/table/tbody/tr[4]/td[16]\").text\n",
    "        api_dict['status'] = status\n",
    "        if status == 'SHUT IN':\n",
    "            return api_dict\n",
    "        w10_link = driver.find_element_by_xpath(\"/html/body/table[2]/tbody/tr/td/form/table/tbody/tr[2]/td/table/tbody/tr[2]/td/table/tbody/tr[4]/td[5]/a\")\n",
    "        w10_link.click()\n",
    "\n",
    "        for tr in driver.find_elements_by_xpath('/html/body/table[2]/tbody/tr/td/form/table/tbody/tr[5]/td/table/tbody/tr[1]/td/table[2]//tr'):\n",
    "            tds = tr.find_elements_by_tag_name('td')\n",
    "            if tds: \n",
    "                api_dict[tds[0].text] = tds[1].text\n",
    "        ret_but = driver.find_element_by_name(\"unused\")\n",
    "        ret_but.click()\n",
    "        select_element = Select(driver.find_element_by_name(\"propertyValue\"))\n",
    "        select_element.select_by_visible_text(\"Completion\")\n",
    "        completion_reports = driver.find_elements_by_xpath(\"/html/body/table[5]/tbody/tr/td/form/table/tbody/tr[3]/td/table/tbody/tr[2]/td/table/tbody//tr\")\n",
    "        last_completion = completion_reports[-1].find_elements_by_tag_name('td')[0]\n",
    "        last_completion.click()\n",
    "        \n",
    "        completion_type = driver.find_element_by_xpath(\"/html/body/table[5]/tbody/tr/td/form/table/tbody/tr/td/table[2]/tbody/tr[2]/td[1]/table/tbody/tr[1]/td/table/tbody/tr/td[1]/table/tbody/tr[3]/td[2]/strong\").text\n",
    "        api_dict['completion type'] = completion_type\n",
    "        \n",
    "        direction = driver.find_element_by_xpath(\"/html/body/table[5]/tbody/tr/td/form/table/tbody/tr/td/table[2]/tbody/tr[2]/td[1]/table/tbody/tr[1]/td/table/tbody/tr/td[1]/table/tbody/tr[8]/td[2]/strong\").text\n",
    "        api_dict['direction'] = direction\n",
    "        \n",
    "        comments = driver.find_element_by_name(\"publicComments\").text\n",
    "        api_dict['comments'] = comments\n",
    "    return api_dict"
   ]
  },
  {
   "cell_type": "code",
   "execution_count": 7,
   "metadata": {},
   "outputs": [
    {
     "data": {
      "text/plain": [
       "{'api': 42227394730000,\n",
       " 'status': 'PRODUCING',\n",
       " 'Test Type:': 'Survey',\n",
       " 'Test Date:': '10/12/2018',\n",
       " 'Effective Date:': '04/01/2019',\n",
       " 'Type of Producing Method:': 'Pumping',\n",
       " 'Daily Oil BBL:': '631.0',\n",
       " 'Daily Water BBL:': '3788',\n",
       " 'Daily Gas MCF:': '352',\n",
       " 'Gas/Oil Ratio CF/BBL:': '557',\n",
       " 'Allocation:': 'No',\n",
       " 'completion type': 'New Well',\n",
       " 'direction': 'HORIZONTAL',\n",
       " 'comments': '[RRC Staff 2018-12-14 16:40:59.932]: SWR 37 LL Exception. location of well is plotted to be OK with take points at 7772-17389 feet; [RRC Staff 2018-12-14 16:41:16.176]: EDL=9600 feet, max acres=640, SPRABERRY (TREND AREA) oil well; \\n\\ntake points: 7772-17389 feet; '}"
      ]
     },
     "execution_count": 7,
     "metadata": {},
     "output_type": "execute_result"
    }
   ],
   "source": [
    "proration_query(midland_apis[400])"
   ]
  },
  {
   "cell_type": "code",
   "execution_count": null,
   "metadata": {},
   "outputs": [],
   "source": []
  }
 ],
 "metadata": {
  "kernelspec": {
   "display_name": "Python [conda env:metis]",
   "language": "python",
   "name": "conda-env-metis-py"
  },
  "language_info": {
   "codemirror_mode": {
    "name": "ipython",
    "version": 3
   },
   "file_extension": ".py",
   "mimetype": "text/x-python",
   "name": "python",
   "nbconvert_exporter": "python",
   "pygments_lexer": "ipython3",
   "version": "3.6.8"
  },
  "toc": {
   "base_numbering": 1,
   "nav_menu": {},
   "number_sections": true,
   "sideBar": true,
   "skip_h1_title": false,
   "title_cell": "Table of Contents",
   "title_sidebar": "Contents",
   "toc_cell": false,
   "toc_position": {},
   "toc_section_display": true,
   "toc_window_display": false
  },
  "varInspector": {
   "cols": {
    "lenName": 16,
    "lenType": 16,
    "lenVar": 40
   },
   "kernels_config": {
    "python": {
     "delete_cmd_postfix": "",
     "delete_cmd_prefix": "del ",
     "library": "var_list.py",
     "varRefreshCmd": "print(var_dic_list())"
    },
    "r": {
     "delete_cmd_postfix": ") ",
     "delete_cmd_prefix": "rm(",
     "library": "var_list.r",
     "varRefreshCmd": "cat(var_dic_list()) "
    }
   },
   "types_to_exclude": [
    "module",
    "function",
    "builtin_function_or_method",
    "instance",
    "_Feature"
   ],
   "window_display": false
  }
 },
 "nbformat": 4,
 "nbformat_minor": 2
}
